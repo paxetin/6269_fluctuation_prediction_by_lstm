{
 "cells": [
  {
   "cell_type": "code",
   "execution_count": 1,
   "metadata": {},
   "outputs": [],
   "source": [
    "import requests\n",
    "import pandas as pd\n",
    "from datetime import date"
   ]
  },
  {
   "cell_type": "code",
   "execution_count": 2,
   "metadata": {},
   "outputs": [],
   "source": [
    "def get_stock_data(start_year, start_month, end_year, end_month, stock_code):\n",
    "    start_date = str(date(start_year, start_month, 1)) #設置起始月份\n",
    "    end_date = str(date(end_year, end_month, 1)) #設置結束月份\n",
    "    month_list = pd.date_range(\n",
    "        start_date, end_date, freq='MS').strftime(\"%Y%m%d\").tolist() #列出開始月份到結束月份的list\n",
    "\n",
    "    data = pd.DataFrame()\n",
    "    for month in month_list:\n",
    "        url = \"https://www.twse.com.tw/exchangeReport/STOCK_DAY?response=json&date=\" + \\\n",
    "            month + \"&stockNo=\" + str(stock_code) + \"&_=1641367897261\"\n",
    "        res = requests.get(url)\n",
    "        sotck_json = res.json()\n",
    "        stock_data = pd.DataFrame.from_dict(sotck_json['data'])\n",
    "        data = stock_data.append(data, ignore_index=True)\n",
    "    data.columns = ['date','shares_traded','amount_traded', 'open', 'high', 'low', 'close', 'fluctuation', 'transction']\n",
    "    return data"
   ]
  },
  {
   "cell_type": "code",
   "execution_count": 3,
   "metadata": {},
   "outputs": [],
   "source": [
    "s_data = get_stock_data(2016, 1, 2021, 12, 6269)\n",
    "s_data"
   ]
  },
  {
   "cell_type": "code",
   "execution_count": 4,
   "metadata": {},
   "outputs": [],
   "source": [
    "s_data.to_csv(\"2498_202201.csv\")"
   ]
  }
 ],
 "metadata": {
  "interpreter": {
   "hash": "b3ba2566441a7c06988d0923437866b63cedc61552a5af99d1f4fb67d367b25f"
  },
  "kernelspec": {
   "display_name": "Python 3.7.6 64-bit ('base': conda)",
   "language": "python",
   "name": "python3"
  },
  "language_info": {
   "codemirror_mode": {
    "name": "ipython",
    "version": 3
   },
   "file_extension": ".py",
   "mimetype": "text/x-python",
   "name": "python",
   "nbconvert_exporter": "python",
   "pygments_lexer": "ipython3",
   "version": "3.7.6"
  },
  "orig_nbformat": 4
 },
 "nbformat": 4,
 "nbformat_minor": 2
}
